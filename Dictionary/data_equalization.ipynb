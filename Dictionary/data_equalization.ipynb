{
 "cells": [
  {
   "cell_type": "markdown",
   "metadata": {},
   "source": [
    "# データを最適化するプログラム\n",
    "## 作成したデータはクラス毎でデータ量のバラツキがあるのでそれを均等にする"
   ]
  },
  {
   "cell_type": "markdown",
   "metadata": {},
   "source": [
    "### 必要なライブラリのインポート"
   ]
  },
  {
   "cell_type": "code",
   "execution_count": 7,
   "metadata": {},
   "outputs": [],
   "source": [
    "import pickle\n",
    "import matplotlib.pyplot as plt\n",
    "import numpy as np\n",
    "import sys\n",
    "sys.path.append('../')\n",
    "from util import util"
   ]
  },
  {
   "cell_type": "markdown",
   "metadata": {},
   "source": [
    "### 定数宣言"
   ]
  },
  {
   "cell_type": "code",
   "execution_count": 13,
   "metadata": {},
   "outputs": [],
   "source": [
    "ROOT_DIR = '.'\n",
    "DATA_PATH = '/tfidf/tf-idf-0.1'\n",
    "FALSE_DATA_PATH = '/false'\n",
    "DICTIONARY_PATH = '/Dictionary'\n",
    "DICTIONARY_NAME = '/dictionary.txt'\n",
    "LABEL_NAME = '/labels'\n",
    "WORD_LIST = 'tfidf_word_list.pkl'\n",
    "WORD_LIST_FILENAME = '/word_list_file_name'"
   ]
  },
  {
   "cell_type": "markdown",
   "metadata": {},
   "source": [
    "### ラベルを読み込む"
   ]
  },
  {
   "cell_type": "code",
   "execution_count": 14,
   "metadata": {},
   "outputs": [],
   "source": [
    "label = util.get_path_list(ROOT_DIR+ROOT_DIR+DATA_PATH)"
   ]
  },
  {
   "cell_type": "markdown",
   "metadata": {},
   "source": [
    "### ラベル毎に配列を用意する"
   ]
  },
  {
   "cell_type": "code",
   "execution_count": 15,
   "metadata": {},
   "outputs": [
    {
     "name": "stdout",
     "output_type": "stream",
     "text": [
      "{'movie-enter': [], 'it-life-hack': [], 'kaden-channel': [], 'topic-news': [], 'livedoor-homme': [], 'peachy': [], 'sports-watch': [], 'dokujo-tsushin': [], 'smax': []}\n"
     ]
    }
   ],
   "source": [
    "labels = {}\n",
    "for l in label:\n",
    "    labels[l] = []\n",
    "print(labels)"
   ]
  },
  {
   "cell_type": "markdown",
   "metadata": {},
   "source": [
    "### ラベル毎にword_listを読み込み、用意した辞書に入れていく"
   ]
  },
  {
   "cell_type": "code",
   "execution_count": 16,
   "metadata": {},
   "outputs": [],
   "source": [
    "for l in label:\n",
    "    with open(ROOT_DIR+ROOT_DIR+DATA_PATH+\"/\"+l+\"/\"+WORD_LIST, \"rb\") as f:\n",
    "        data = pickle.load(f)\n",
    "        labels[l] = data"
   ]
  },
  {
   "cell_type": "markdown",
   "metadata": {},
   "source": [
    "### ラベルからそれぞれのクラスのデータ量を可視化"
   ]
  },
  {
   "cell_type": "code",
   "execution_count": 17,
   "metadata": {},
   "outputs": [
    {
     "data": {
      "text/plain": [
       "<BarContainer object of 9 artists>"
      ]
     },
     "execution_count": 17,
     "metadata": {},
     "output_type": "execute_result"
    },
    {
     "data": {
      "image/png": "[encoded data removed]",
      "text/plain": [
       "<Figure size 720x504 with 1 Axes>"
      ]
     },
     "metadata": {
      "needs_background": "light"
     },
     "output_type": "display_data"
    }
   ],
   "source": [
    "label_number = []\n",
    "for i,l in enumerate(labels):\n",
    "    label_number.append(len(labels[label[i]]))\n",
    "plt.figure(figsize=(10,7))\n",
    "plt.bar(np.array(label),np.array(label_number),width=0.5, linewidth=10)"
   ]
  },
  {
   "cell_type": "markdown",
   "metadata": {},
   "source": [
    "### フォルダ毎の総単語数を見てみる"
   ]
  },
  {
   "cell_type": "code",
   "execution_count": 18,
   "metadata": {},
   "outputs": [
    {
     "data": {
      "text/plain": [
       "<BarContainer object of 9 artists>"
      ]
     },
     "execution_count": 18,
     "metadata": {},
     "output_type": "execute_result"
    },
    {
     "data": {
      "image/png": "[encoded data removed]",
      "text/plain": [
       "<Figure size 720x504 with 1 Axes>"
      ]
     },
     "metadata": {
      "needs_background": "light"
     },
     "output_type": "display_data"
    }
   ],
   "source": [
    "label_number = []\n",
    "for i,l in enumerate(labels):\n",
    "    dic = labels[label[i]]\n",
    "    word_length = 0\n",
    "    for d in dic:\n",
    "        word_length += len(d['text'])\n",
    "    label_number.append(word_length)\n",
    "    \n",
    "plt.figure(figsize=(10,7))\n",
    "plt.bar(np.array(label),np.array(label_number),width=0.5, linewidth=10)"
   ]
  },
  {
   "cell_type": "code",
   "execution_count": null,
   "metadata": {},
   "outputs": [],
   "source": []
  }
 ],
 "metadata": {
  "kernelspec": {
   "display_name": "Python 3",
   "language": "python",
   "name": "python3"
  },
  "language_info": {
   "codemirror_mode": {
    "name": "ipython",
    "version": 3
   },
   "file_extension": ".py",
   "mimetype": "text/x-python",
   "name": "python",
   "nbconvert_exporter": "python",
   "pygments_lexer": "ipython3",
   "version": "3.7.2"
  }
 },
 "nbformat": 4,
 "nbformat_minor": 2
}
