{
 "cells": [
  {
   "cell_type": "markdown",
   "metadata": {},
   "source": [
    "# 辞書作成プログラム\n",
    "## 分ち書きしたファイル＝＞辞書"
   ]
  },
  {
   "cell_type": "markdown",
   "metadata": {},
   "source": [
    "### ライブラリインポート"
   ]
  },
  {
   "cell_type": "code",
   "execution_count": 1,
   "metadata": {},
   "outputs": [],
   "source": [
    "from gensim import corpora\n",
    "import glob\n",
    "import sys\n",
    "import os\n",
    "import pickle"
   ]
  },
  {
   "cell_type": "markdown",
   "metadata": {},
   "source": [
    "### 上位層の自作モジュールをインポートする為に上位の階層をPythonに認識させる"
   ]
  },
  {
   "cell_type": "code",
   "execution_count": 2,
   "metadata": {},
   "outputs": [],
   "source": [
    "sys.path.append('../')\n",
    "from util import util"
   ]
  },
  {
   "cell_type": "markdown",
   "metadata": {},
   "source": [
    "### 定数宣言"
   ]
  },
  {
   "cell_type": "code",
   "execution_count": 3,
   "metadata": {},
   "outputs": [],
   "source": [
    "ROOT_DIR = '.'\n",
    "DATA_PATH = '/text'\n",
    "FILE_NAME= '/*.wakati'\n",
    "DICTIONARY_NAME = '/dictionary.txt'\n",
    "LABEL_NAME = '/labels'\n",
    "WORD_LIST = '/word_list'\n",
    "WORD_LIST_FILE = 'word_list.pkl'\n",
    "WORD_LIST_FILENAME = '/word_list_file_name' "
   ]
  },
  {
   "cell_type": "markdown",
   "metadata": {},
   "source": [
    "### 自作utilから引数のパス内のフォルダ名取得メソッド呼び出し\n",
    "これでとったフォルダ名をラベルとする。labelは配列でlabelsにはlabelのindexを格納していく"
   ]
  },
  {
   "cell_type": "code",
   "execution_count": 4,
   "metadata": {},
   "outputs": [],
   "source": [
    "label = util.get_path_list(ROOT_DIR+ROOT_DIR+DATA_PATH)"
   ]
  },
  {
   "cell_type": "markdown",
   "metadata": {},
   "source": [
    "### ラベル中身"
   ]
  },
  {
   "cell_type": "code",
   "execution_count": 5,
   "metadata": {},
   "outputs": [
    {
     "name": "stdout",
     "output_type": "stream",
     "text": [
      "['movie-enter', 'it-life-hack', 'kaden-channel', 'topic-news', 'livedoor-homme', 'peachy', 'sports-watch', 'dokujo-tsushin', 'smax']\n"
     ]
    }
   ],
   "source": [
    "print(label)"
   ]
  },
  {
   "cell_type": "markdown",
   "metadata": {},
   "source": [
    "### 1文書を分ち書きしてスペース毎に単語を区切った配列をword_listに格納していく\n",
    "(例) [[航　オーストラリア　いく], [矢島　北海道　行く]] 合計２ファイル"
   ]
  },
  {
   "cell_type": "code",
   "execution_count": 6,
   "metadata": {},
   "outputs": [],
   "source": [
    "word_list = []"
   ]
  },
  {
   "cell_type": "markdown",
   "metadata": {},
   "source": [
    "### ラベルつまりはフォルダ毎にword_listに文章を入れる処理をする\n",
    "word_listに文章を入れる順番とラベルを紐付ける為であり、word_listにはフォルダ問わず全文章を格納する\n",
    "\n",
    "    (例) word_list            labels\n",
    "         [航　オーストラリア　行く]  1\n",
    "         [矢島　北海道　行く]       2\n",
    "         \n",
    "w_listにフォルダ毎の分ち書きした文章を配列に格納して保存する\n",
    "その際、辞書式で文章とファイル名を持たす\n",
    "{text: ファイルの内容, file: ファイル名}"
   ]
  },
  {
   "cell_type": "code",
   "execution_count": 7,
   "metadata": {},
   "outputs": [],
   "source": [
    "for l in label:\n",
    "    w_list = []\n",
    "    for path in glob.glob(ROOT_DIR+ROOT_DIR+DATA_PATH+'/'+l+FILE_NAME, recursive=True):\n",
    "        if os.path.isdir(path):\n",
    "            continue\n",
    "        text = open(path, \"r\", encoding='utf-8').read()\n",
    "        word_list.append(text.split())\n",
    "        #f_list.append(path.split(\"/\")[-1].split(\".\")[0])\n",
    "        w_list.append({'text': text.split(), 'file': path.split(\"/\")[-1].split(\".\")[0]})\n",
    "    with open(ROOT_DIR+ROOT_DIR+DATA_PATH+\"/\"+l+\"/\"+WORD_LIST_FILE, \"wb\") as f:\n",
    "        pickle.dump(w_list, f)\n",
    "    \n"
   ]
  },
  {
   "cell_type": "markdown",
   "metadata": {},
   "source": [
    "### ラベルとインデックスの対応\n",
    "ラベルのインデックスが学習の際のラベルに相当"
   ]
  },
  {
   "cell_type": "code",
   "execution_count": 8,
   "metadata": {},
   "outputs": [
    {
     "name": "stdout",
     "output_type": "stream",
     "text": [
      "0 movie-enter\n",
      "1 it-life-hack\n",
      "2 kaden-channel\n",
      "3 topic-news\n",
      "4 livedoor-homme\n",
      "5 peachy\n",
      "6 sports-watch\n",
      "7 dokujo-tsushin\n",
      "8 smax\n"
     ]
    }
   ],
   "source": [
    "for i, l in enumerate(label):\n",
    "    print(i, l)"
   ]
  },
  {
   "cell_type": "markdown",
   "metadata": {},
   "source": [
    "### word_listの中身"
   ]
  },
  {
   "cell_type": "code",
   "execution_count": 9,
   "metadata": {},
   "outputs": [
    {
     "name": "stdout",
     "output_type": "stream",
     "text": [
      "['ジョニデ', 'バートン', '監督', '贈る', 'ファミリー', 'インパクト', '大', 'キャラクター', 'ビジュアル', '注目', 'バートン', '監督', 'デップ', '最強', 'コンビ', '贈る', '世界', '待望', '大作', '5', '月', '19', '日', '公開', 'キャラクタービジュアル', '公開', 'する', 'れる', '公開', '記念', 'する', 'コスプレコンテスト', '実施', '決定', 'する', '本', '作', '魔女', 'ヴァンパイア', 'する', 'れる', 'しまう', 'バーナバス・コリンズ', '物語', 'ヴァンパイア', 'なる', 'バーナバス', '生き埋め', 'する', 'れる', 'しまう', '目覚める', 'の', '2', '世紀', '後', '1972', '年', '没落', 'する', '家', '末裔', '出会う', 'バーナバス', '父親', '唯一', '財産', '家族', '言葉', '胸', '魔女', '手', '家族', '守る', '一族', '繁栄', '取り戻す', 'する', '1966', '年', '1971', '年', 'ABC', 'テレビ', '放送', 'する', 'れる', '人気', 'ドラマ', 'ベース', '映画', '化', 'する', '作品', '主人公', '1752', '年', '移民', 'する', '裕福', '家', '育つ', 'プレイボーイ', 'バーナバス・コリンズ', '日', '彼', '魔女', 'アンジェリーク', '死', '運命', 'なる', 'ヴァンパイア', 'する', 'れる', '生き埋め', 'する', 'れる', 'しまう', '2', '世紀', '後', '1972', '年', '予期', 'する', 'きっかけ', '自分', '墓', '開放', 'する', 'れる', '劇的', '変化', '遂げる', '世の中', 'バーナバス', '不可思議', '謎', '秘める', '家', '末裔', '姿', '描く', '父親', '唯一', '財産', '家族', '言葉', '胸', '魔女', '手', '家族', '守る', '没落', 'する', '一族', '繁栄', '取り戻せる', 'こと', 'できる', 'の', '主人公', 'バーナバス', '演じる', 'の', 'カメレオン', '俳優', 'いう', 'れる', 'その他', '魔女', 'アンジェリーク', '役', '007', 'エヴァ・グリーン', '家', '当主', '役', 'ミシェル・ファイファー', '一家', '同居', 'する', '医師', '役', 'ヘレナ・ボナム', '演じる', '怠惰', '兄弟', '役', '息子', 'デイビッド', '役', 'ヒューゴ', '不思議', '発明', 'デイビッド・コリンズ', '家', 'ひねくれる', '気味', '長女', 'キャロリン', '役', 'クロエ・モレッツ', '演じる', '人気', '急上昇', '俳優', '実力', '派', '俳優', '勢揃い', 'する', 'いる', '今回', '豪華', 'キャスト', '演じる', 'キャラクタービジュアル', '公開', 'する', 'れる', '70', '年代', '風', 'ポップ', 'カラー', '彩る', 'れる', 'インパクト', '大', '仕上がり', '見る', '忘れる', 'られる', 'ビジュアル', '4', '月', '下旬', '全国', '主要', '劇場', '交通', '広告', '登場', 'する', '予定', 'キャラクタービジュアル', '一覧', 'ENTER', '来日', 'する', 'ジョニデ', 'バートン', '監督', '会える', 'プレミア', 'レッド', 'カーペット', '招待', 'する', 'プレゼント', '掲載', 'する', 'いる', '1', '彼ら', '会える', '方法', 'ある', 'それ', '今回', '開催', '決定', 'する', 'コスプレコンテスト', '募集', 'テーマ', '2', '本', '作', '登場', 'キャラクター', 'デップ', '演じる', 'バーナバス・コリンズ', 'エヴァ・グリーン', '演じる', '魔女', 'アンジェリーク', 'する', 'こと', '入賞', '者', '来日', 'する', 'ジョニデ', 'バートン', '監督', '登壇', '予定', '5', '月', '12', '日', '土', 'TOHO', 'シネマズ', '行う', 'れる', 'プレミア', '招待', 'する', 'れる', 'ほか', '受賞', 'する', 'イベント', '華やか', 'レッド', 'カーペット', '歩く', 'こと', 'できる', 'プラチナ', '特典', 'つく', 'くる', '2', '目', 'これ', '数々', '名作', '作り上げる', 'くる', 'ジョニデ', 'バートン', '監督', '作品', 'チャーリー', 'チョコレート', '工場', 'スウィーニー・トッドフリード', '街', '悪魔', '理髪', '店', '登場', 'する', 'キャラクター', '募集', 'こちら', '入賞', '者', '本', '作', 'プレミア', 'チケット', '贈呈', 'する', 'れる', 'どちら', '募集', '締め切り', '5', '月', '7', '日', '月', '詳細', '公式', 'サイト', 'チェック', 'する', '映画', '5', '月', '19', '日', '土', 'ルーブル', 'ほか', '全国', 'ロードショー', '映画', '-', '作品', '情報', '映画', '-', '公式', 'サイト', '関連', '記事', 'PR', 'ため', '緊急', '来日', '決定', 'ジョニデ', '常識', 'はずれ', 'ヴァンパイア', '予告', '映像', '注目', 'ヴァンパイア', '誕生', 'ジョニデ', '主演', '公開', '日', '決定', 'バートン', 'ジョニデ', '8', '度目', 'タッグ', '念', 'バンパイア', '役', '演じる']\n"
     ]
    }
   ],
   "source": [
    "print(word_list[0])"
   ]
  },
  {
   "cell_type": "markdown",
   "metadata": {},
   "source": [
    "### フォルダ毎のword_listの中身\n",
    "例で１フォルダのword_listの中身を見てみる"
   ]
  },
  {
   "cell_type": "code",
   "execution_count": 10,
   "metadata": {},
   "outputs": [
    {
     "name": "stdout",
     "output_type": "stream",
     "text": [
      "{'text': ['ドライブ', '企画', '計算', '書', 'メンバー', '共有', '知る', '得る', '虎の巻', 'プロジェクト', '参加', '者', 'スケジュール', '共有', 'する', '企画', '案', '出し合う', 'する', 'とき', 'オンライン', 'ファイル', '共有', 'する', 'おく', '誰', '閲覧', '編集', 'できる', '便利', 'ドライブ', 'ファイル', '共有', 'する', 'こと', '実現', 'する', '知る', '得る', '.', '311', 'Google', 'ドライブ', 'ファイル', '共有', 'する', '先々', '週', '先週', '2', '回', 'ドライブ', '利用', '方法', '解説', 'する', 'くる', 'これ', '解説', '自分', 'PC', 'オンライン', 'ストレージ', '同期', 'する', '方法', 'アンドロイド', '端末', 'アクセス', 'する', '方法', '今回', 'それ', '加える', 'ユーザー', 'ファイル', '共有', 'する', 'みる', 'ファイル', '共有', '設定', 'する', 'ドライブ', 'Web', 'サイト', 'アクセス', 'する', '共有', 'する', 'ファイル', 'チェック', '入れる', '共有', 'ボタン', 'クリック', 'する', '画面', '1', '画面', '1', '共有', 'ボタン', 'クリック', 'する', '共有', 'する', 'ユーザー', '追加', 'する', 'メールアドレス', '直接', '入力', 'する', 'ほか', 'メール', '連絡', '先', '選択', 'する', 'こと', '可能', '続く', '編集', '可能', '共同', '編集', '者', '閲覧', '閲覧', '者', '指定', 'する', '画面', '2', '画面', '2', 'メールアドレス', '入力', 'する', '編集', '権限', '設定', '設定', 'できる', '共有', 'する', '保存', 'クリック', 'する', 'アカウント', '持つ', 'ユーザー', '共有', 'できる', '招待', 'する', 'れる', 'ユーザー', 'メール', '案内', '届く', '画面', '3', 'ファイル', '閲覧', '編集', 'する', 'とき', 'リンク', 'クリック', 'する', 'アクセス', 'する', '画面', '4', '画面', '3', 'メール', '届く', '招待', '状', '画面', '4', 'アクセス', 'する', '権限', '応じる', 'ファイル', '閲覧', '編集', 'できる', 'オンライン', 'ファイル', '共有', 'する', '共同', '作業', 'スムーズ', 'なる', 'どこ', '自分', 'ファイル', '利用', 'する', '共同', '作業', 'Google', 'ドライブ', '活用', 'する', '編集', '部', '奈知', '子', 'ジャム', 'ハウス', '制作', '編集', 'Copyright', '2012', 'livedoor', '.', 'All', 'rights', 'reserved', '.', '便利', '技', '満載', '知る', '得る', '虎の巻', '知る', '得る', '虎の巻', '記事', 'みる', '個性', '派', 'Facebook', 'する', 'みんな', '違う', '背景', 'する', '方法', '大切', '投稿', '見逃す', 'Facebook', '親友', '投稿', '表示', 'する', '必要', 'ファイル', '取り出す', 'マル', '秘', 'どこ', 'ファイル', '活用', 'Google', 'ドライブ', 'ローカル', 'PC', '自動', '同期', 'する', '肩', '腕', '負担', '軽減', 'する', 'キー', '操作', '術', '起動', '高速', '化', 'いる', 'アプリ', 'スタート', 'アップ', '外す'], 'file': 'it-life-hack-6571808'}\n"
     ]
    }
   ],
   "source": [
    "with open(ROOT_DIR+ROOT_DIR+DATA_PATH+\"/\"+label[1]+\"/\"+WORD_LIST_FILE, \"rb\") as f:\n",
    "    w_list = pickle.load(f)\n",
    "    \n",
    "print(w_list[0])"
   ]
  },
  {
   "cell_type": "markdown",
   "metadata": {},
   "source": [
    "### word_listを保存"
   ]
  },
  {
   "cell_type": "code",
   "execution_count": 11,
   "metadata": {},
   "outputs": [],
   "source": [
    "with open(ROOT_DIR+WORD_LIST, \"wb\") as f:\n",
    "    pickle.dump(word_list, f)"
   ]
  },
  {
   "cell_type": "markdown",
   "metadata": {},
   "source": [
    "### 辞書作成\n",
    "とりあえず辞書作りたい時はデフォルトで引数は配列だけでいい\\\n",
    "参考：　https://qiita.com/tatsuya-miyamoto/items/f505dfa8d5307f8c6e98\n"
   ]
  },
  {
   "cell_type": "code",
   "execution_count": 12,
   "metadata": {},
   "outputs": [],
   "source": [
    "dictionary = corpora.Dictionary(word_list)"
   ]
  },
  {
   "cell_type": "markdown",
   "metadata": {},
   "source": [
    "### 辞書フィルター\n",
    "no_below　・・・　出現文書数N未満の単語を削除\\\n",
    "no_above　・・・　出現文書率がN％より上（N%は除かれない）の単語を削除 (指定しないとデフォで0.5という鬼畜裁定が入る。。。どーかしてるぜ)\n"
   ]
  },
  {
   "cell_type": "code",
   "execution_count": 13,
   "metadata": {},
   "outputs": [],
   "source": [
    "dictionary.filter_extremes(no_below = 200, no_above = 0.2)"
   ]
  },
  {
   "cell_type": "markdown",
   "metadata": {},
   "source": [
    "### 辞書を保存（テキスト方式）\n",
    "これは便利！バイナリ保存じゃないから読める、読めるぞ！"
   ]
  },
  {
   "cell_type": "code",
   "execution_count": 14,
   "metadata": {},
   "outputs": [
    {
     "name": "stderr",
     "output_type": "stream",
     "text": [
      "/usr/local/lib/python3.7/site-packages/smart_open/smart_open_lib.py:398: UserWarning: This function is deprecated, use smart_open.open instead. See the migration notes for details: https://github.com/RaRe-Technologies/smart_open/blob/master/README.rst#migrating-to-the-new-open-function\n",
      "  'See the migration notes for details: %s' % _MIGRATION_NOTES_URL\n"
     ]
    }
   ],
   "source": [
    "dictionary.save_as_text(ROOT_DIR+DICTIONARY_NAME)"
   ]
  },
  {
   "cell_type": "markdown",
   "metadata": {},
   "source": [
    "### コーパスの作成（おまけ）\n",
    "doc2bow　・・・　文章を入れるとBoW表現にしてくれる(ID, 頻度)\\\n",
    "参照: https://www.pytry3g.com/entry/2018/03/21/181514 \\\n",
    "文章単位なので以下のようにword_listそのままではなく、中身を１つずつ入れる感じ(次のtrain.pyでこの考え使う)"
   ]
  },
  {
   "cell_type": "code",
   "execution_count": 17,
   "metadata": {},
   "outputs": [
    {
     "name": "stdout",
     "output_type": "stream",
     "text": [
      "[(0, 1), (1, 2), (2, 1), (3, 1), (4, 1), (5, 1), (6, 1), (7, 1), (8, 2), (9, 1), (10, 1), (11, 1), (12, 3), (13, 1), (14, 1), (15, 1), (16, 1), (17, 1), (18, 1), (19, 1), (20, 1), (21, 1), (22, 2), (23, 1), (24, 1), (25, 2), (26, 3), (27, 3), (28, 3), (29, 2), (30, 2), (31, 5), (32, 1), (33, 1), (34, 1), (35, 1), (36, 2), (37, 1), (38, 2), (39, 1), (40, 2), (41, 1), (42, 1), (43, 5), (44, 4), (45, 1), (46, 7), (47, 1), (48, 1), (49, 1), (50, 2), (51, 1), (52, 1), (53, 1), (54, 1), (55, 1), (56, 1), (57, 4), (58, 1), (59, 3), (60, 1), (61, 4), (62, 2), (63, 1), (64, 7), (65, 1), (66, 5), (67, 2), (68, 1), (69, 2), (70, 1), (71, 1), (72, 1), (73, 1), (74, 1), (75, 1)]\n"
     ]
    }
   ],
   "source": [
    "courpus = [dictionary.doc2bow(word) for word in word_list]\n",
    "print(courpus[0])"
   ]
  },
  {
   "cell_type": "code",
   "execution_count": null,
   "metadata": {},
   "outputs": [],
   "source": []
  }
 ],
 "metadata": {
  "kernelspec": {
   "display_name": "Python 3",
   "language": "python",
   "name": "python3"
  },
  "language_info": {
   "codemirror_mode": {
    "name": "ipython",
    "version": 3
   },
   "file_extension": ".py",
   "mimetype": "text/x-python",
   "name": "python",
   "nbconvert_exporter": "python",
   "pygments_lexer": "ipython3",
   "version": "3.7.2"
  }
 },
 "nbformat": 4,
 "nbformat_minor": 2
}
