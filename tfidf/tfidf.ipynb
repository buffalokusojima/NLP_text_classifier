{
 "cells": [
  {
   "cell_type": "markdown",
   "metadata": {},
   "source": [
    "# TF-IDFした結果をフォルダ毎にファイル、フォルダ単位で作成する\n",
    "\n",
    "## フォルダ・・・total.tfidf\n",
    "## ファイル・・・ファイル名.tdidf\n",
    "\n",
    "なお、このTF-IDF自体をベクトルとして使うかは怪しい、あくまで特徴語抽出までに留めておく方が良いだろう\n",
    "参考：　https://www.haya-programming.com/entry/2018/03/19/125436"
   ]
  },
  {
   "cell_type": "markdown",
   "metadata": {},
   "source": [
    "### 必要なライブラリのインポート"
   ]
  },
  {
   "cell_type": "code",
   "execution_count": 1,
   "metadata": {},
   "outputs": [],
   "source": [
    "import glob\n",
    "\n",
    "import numpy as np\n",
    "import os,sys\n",
    "import json\n",
    "import pickle\n",
    "from sklearn.feature_extraction.text import TfidfVectorizer"
   ]
  },
  {
   "cell_type": "markdown",
   "metadata": {},
   "source": [
    "### 定数の定義"
   ]
  },
  {
   "cell_type": "code",
   "execution_count": 2,
   "metadata": {},
   "outputs": [],
   "source": [
    "ROOT_DIR = '.'\n",
    "DATA_PATH = '/text'\n",
    "FILE_NAME = '/*.wakati'\n",
    "FILE_TFIDF = '.tfidf'\n",
    "TFIDF_RESULT = '/tfidf_result.pkl'\n",
    "VECTOR_PATH = '/tfidf_vectorizer.pkl'"
   ]
  },
  {
   "cell_type": "markdown",
   "metadata": {},
   "source": [
    "### 関数の定義(中分類用)"
   ]
  },
  {
   "cell_type": "code",
   "execution_count": 3,
   "metadata": {},
   "outputs": [],
   "source": [
    "def make_tfidf_medium(path):\n",
    "    for path in glob.glob(path, recursive=True):\n",
    "        vectorizer = TfidfVectorizer()\n",
    "        docs = []\n",
    "        if not os.path.isdir(path):\n",
    "            continue\n",
    "        print(path)\n",
    "        for file in glob.glob(path+FILE_NAME, recursive=True):\n",
    "            text = open(file, \"r\", encoding='utf-8').read()\n",
    "            doc = {'file': file, 'doc': text}\n",
    "            docs.append(doc)\n",
    "\n",
    "        vector = vectorizer.fit_transform([d.get('doc') for d in docs])\n",
    "        feature_names = np.array(vectorizer.get_feature_names())\n",
    "\n",
    "        with open(path+TFIDF_RESULT, 'wb') as f:\n",
    "            pickle.dump(vector, f)\n",
    "        with open(path+VECTOR_PATH, 'wb') as f:\n",
    "            pickle.dump(vectorizer, f)\n",
    "\n",
    "        num = 0\n",
    "        for vec in vector:\n",
    "            index = np.argsort(vec.toarray(), axis=1)[:,::-1]\n",
    "            feature_words = feature_names[index]\n",
    "            outputPath = docs[num]['file'].replace(\".wakati\", \".tf-idf\")\n",
    "            \n",
    "            v = vec.toarray()[0]\n",
    "            with open(outputPath, \"w\", encoding='utf-8') as f:\n",
    "                for i, idx in enumerate(index[0]):\n",
    "                    f.write(feature_words[0][i] + \": \" + str(v[idx])+\", \")\n",
    "            print(outputPath)\n",
    "            num = num + 1\n"
   ]
  },
  {
   "cell_type": "markdown",
   "metadata": {},
   "source": [
    "### 関数の定義(大分類)"
   ]
  },
  {
   "cell_type": "code",
   "execution_count": 4,
   "metadata": {},
   "outputs": [],
   "source": [
    "def make_tfidf_major(root):\n",
    "    \n",
    "    dataPath = '/text'\n",
    "    for path in glob.glob(root+dataPath, recursive=True):\n",
    "        vectorizer = TfidfVectorizer()\n",
    "        docs = []\n",
    "        if not os.path.isdir(path):\n",
    "            continue\n",
    "        \n",
    "        for file in glob.glob(path+'/*'+FILE_NAME, recursive=True):\n",
    "            if os.path.isdir(file):\n",
    "                continue\n",
    "            text = open(file, \"r\", encoding='utf-8').read()\n",
    "            docs.append(text)\n",
    "            print(file)\n",
    "        vector = vectorizer.fit_transform(docs)\n",
    "        feature_names = np.array(vectorizer.get_feature_names())\n",
    "        \n",
    "        with open(root+dataPath+TFIDF_RESULT, 'wb') as f:\n",
    "            pickle.dump(vector, f)\n",
    "        with open(root+dataPath+VECTOR_PATH, 'wb') as f:\n",
    "            pickle.dump(vectorizer, f)\n",
    "\n",
    "        for vec in vector:\n",
    "            index = np.argsort(vec.toarray(), axis=1)[:,::-1]\n",
    "            feature_words = feature_names[index]\n",
    "\n",
    "        outputPath = root+dataPath+'/total.tfidf'\n",
    "        num = 0\n",
    "        v = vec.toarray()[0]\n",
    "        with open(outputPath, \"w\", encoding='utf-8') as f:\n",
    "            for i, idx in enumerate(index[0]):\n",
    "                f.write(feature_words[0][i] + \": \" + str(v[idx])+\", \")\n",
    "        print(outputPath)\n",
    "        num = num + 1"
   ]
  },
  {
   "cell_type": "markdown",
   "metadata": {},
   "source": [
    "### メイン\n",
    "引数を使い分けて呼び出す関数を切り替える"
   ]
  },
  {
   "cell_type": "code",
   "execution_count": 5,
   "metadata": {},
   "outputs": [
    {
     "name": "stdout",
     "output_type": "stream",
     "text": [
      "Not correct number of argument\n",
      "Wrong argument\n"
     ]
    }
   ],
   "source": [
    "argv = sys.argv\n",
    "args = len(argv)\n",
    "if args != 2:\n",
    "    print(\"Not correct number of argument\")\n",
    "    exit(1)\n",
    "if argv[1] == '-m':\n",
    "    make_tfidf_medium(ROOT_DIR+DATA_PATH)\n",
    "\n",
    "elif argv[1] == '-M':\n",
    "    make_tfidf_major(ROOT_DIR)\n",
    "\n",
    "else:\n",
    "    print(\"Wrong argument\")"
   ]
  },
  {
   "cell_type": "code",
   "execution_count": null,
   "metadata": {},
   "outputs": [],
   "source": []
  }
 ],
 "metadata": {
  "kernelspec": {
   "display_name": "Python 3",
   "language": "python",
   "name": "python3"
  },
  "language_info": {
   "codemirror_mode": {
    "name": "ipython",
    "version": 3
   },
   "file_extension": ".py",
   "mimetype": "text/x-python",
   "name": "python",
   "nbconvert_exporter": "python",
   "pygments_lexer": "ipython3",
   "version": "3.7.2"
  }
 },
 "nbformat": 4,
 "nbformat_minor": 2
}
