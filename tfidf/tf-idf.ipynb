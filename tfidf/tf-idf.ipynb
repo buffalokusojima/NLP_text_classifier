{
 "cells": [
  {
   "cell_type": "markdown",
   "metadata": {},
   "source": [
    "# TF-IDFをディレクトリ毎に行い結果をファイルに残す\n",
    "## 必要なライブラリをインポート"
   ]
  },
  {
   "cell_type": "code",
   "execution_count": 1,
   "metadata": {},
   "outputs": [],
   "source": [
    "import glob\n",
    "\n",
    "import numpy as np\n",
    "\n",å
    "from sklearn.feature_extraction.text import TfidfVectorizer"
   ]
  },
  {
   "cell_type": "markdown",
   "metadata": {},
   "source": [
    "## パス"
   ]
  },
  {
   "cell_type": "code",
   "execution_count": 2,
   "metadata": {},
   "outputs": [],
   "source": [
    "#ROOT_DIR = 'C:\\\\Users\\\\9047247\\\\Documents\\\\AI_contest_2019\\\\学習用データ'\n",
    "ROOT_DIR = '.'\n",
    "DATA_PATH = '/text/*'\n",
    "FILE_NAME = '/*.wakati'\n"
   ]
  },
  {
   "cell_type": "markdown",
   "metadata": {},
   "source": [
    "## ベクトル化させるクラスを呼ぶンゴ"
   ]
  },
  {
   "cell_type": "code",
   "execution_count": 3,
   "metadata": {},
   "outputs": [],
   "source": [
    "vectorizer = TfidfVectorizer()"
   ]
  },
  {
   "cell_type": "markdown",
   "metadata": {},
   "source": [
    "## 色々するンゴ"
   ]
  },
  {
   "cell_type": "code",
   "execution_count": null,
   "metadata": {},
   "outputs": [],
   "source": [
    " for file in glob.glob(path+FILE_NAME, recursive=True):\n",
    "        text = open(file, \"r\", encoding='utf-8').read()\n",
    "        doc = {'file': file, 'doc': text}\n",
    "        docs.append(doc)\n",
    "\n",
    "    vector = vectorizer.fit_transform([d.get('doc') for d in docs])\n",
    "    feature_names = np.array(vectorizer.get_feature_names())\n",
    "\n",
    "    num = 0\n",
    "    for vec in vector:\n",
    "        index = np.argsort(vec.toarray(), axis=1)[:,::-1]\n",
    "        feature_words = feature_names[index]\n",
    "        outputPath = docs[num]['file'].replace(\".wakati\", \".tf-idf\")\n",
    "        \n",
    "        text = []\n",
    "        for i, idx in enumerate(index[0]):\n",
    "            txt = {'word': feature_words[0][i], 'vector': int(vec.toarray()[0][idx])}\n",
    "            text.append(txt)\n",
    "        print(outputPath)\n",
    "        fw = open(outputPath, \"w\", encoding='utf-8')\n",
    "        json.dump({'result':text}, fw, indent=2)\n",
    "        num = num + 1"
   ]
  },
  {
   "cell_type": "markdown",
   "metadata": {},
   "source": [
    "## like above"
   ]
  }
 ],
 "metadata": {
  "kernelspec": {
   "display_name": "Python 3",
   "language": "python",
   "name": "python3"
  },
  "language_info": {
   "codemirror_mode": {
    "name": "ipython",
    "version": 3
   },
   "file_extension": ".py",
   "mimetype": "text/x-python",
   "name": "python",
   "nbconvert_exporter": "python",
   "pygments_lexer": "ipython3",
   "version": "3.7.2"
  }
 },
 "nbformat": 4,
 "nbformat_minor": 2
}
